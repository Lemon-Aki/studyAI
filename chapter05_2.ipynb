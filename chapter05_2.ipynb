{
  "nbformat": 4,
  "nbformat_minor": 0,
  "metadata": {
    "colab": {
      "name": "chapter05_2.ipynb",
      "provenance": [],
      "authorship_tag": "ABX9TyPqx/QnYDzVGksvqtjcLqMd",
      "include_colab_link": true
    },
    "kernelspec": {
      "name": "python3",
      "display_name": "Python 3"
    },
    "language_info": {
      "name": "python"
    }
  },
  "cells": [
    {
      "cell_type": "markdown",
      "metadata": {
        "id": "view-in-github",
        "colab_type": "text"
      },
      "source": [
        "<a href=\"https://colab.research.google.com/github/Lemon-Aki/studyAI/blob/main/chapter05_2.ipynb\" target=\"_parent\"><img src=\"https://colab.research.google.com/assets/colab-badge.svg\" alt=\"Open In Colab\"/></a>"
      ]
    },
    {
      "cell_type": "code",
      "metadata": {
        "id": "SnAl8PI4CFQF"
      },
      "source": [
        "#테스트 세트로 평가를 하다보면 테스트 세트에 잘 맞는 모델이 만들어지는 문제\n",
        "#검증 세트 : 훈련 세트를 나누어 검증용으로 사용하는 데이터\n",
        "#검증 세트 만들기\n",
        "#판다스로 csv파일로부터 데이터를 읽어들여 데이터프레임 생성\n",
        "import pandas as pd\n",
        "wine = pd.read_csv('https://bit.ly/wine_csv_data')\n",
        "\n",
        "wine.head()\n",
        "\n",
        "#입력 데이터 생성\n",
        "data = wine[['alcohol', 'sugar', 'pH']].to_numpy()\n",
        "target = wine['class'].to_numpy()"
      ],
      "execution_count": 56,
      "outputs": []
    },
    {
      "cell_type": "code",
      "metadata": {
        "colab": {
          "base_uri": "https://localhost:8080/"
        },
        "id": "6BSddphkCqOQ",
        "outputId": "ed3cbd5e-ca16-403e-a7a6-64f76a7e5f10"
      },
      "source": [
        "#입력 데이터에서 훈련 세트, 테스트 세트 생성\n",
        "from sklearn.model_selection import train_test_split\n",
        "train_input, test_input, train_target, test_target = train_test_split(data, target,test_size=0.2, random_state=42)\n",
        "print(train_input.shape, test_input.shape)"
      ],
      "execution_count": 57,
      "outputs": [
        {
          "output_type": "stream",
          "text": [
            "(5197, 3) (1300, 3)\n"
          ],
          "name": "stdout"
        }
      ]
    },
    {
      "cell_type": "code",
      "metadata": {
        "colab": {
          "base_uri": "https://localhost:8080/"
        },
        "id": "R_akkfA6DLaH",
        "outputId": "5e8756a6-6845-4cbc-e32c-4c4d29f9bb23"
      },
      "source": [
        "#훈련 세트를 나눠서 훈련용 세트와 검증 세트 생성\n",
        "sub_input, val_input, sub_target, val_target = train_test_split(train_input, train_target, test_size=0.2, random_state=42)\n",
        "print(sub_input.shape, val_input.shape)"
      ],
      "execution_count": 58,
      "outputs": [
        {
          "output_type": "stream",
          "text": [
            "(4157, 3) (1040, 3)\n"
          ],
          "name": "stdout"
        }
      ]
    },
    {
      "cell_type": "code",
      "metadata": {
        "colab": {
          "base_uri": "https://localhost:8080/"
        },
        "id": "wrPlkTJYDmN4",
        "outputId": "3b1c3248-22de-43b2-f697-cb4ffe2184ca"
      },
      "source": [
        "#훈련용 세트로 결정 트리 모델 생성\n",
        "#과대적합문제 발생, 매개변수를 바꿔서 더 좋은 모델을 찾고 싶음\n",
        "from sklearn.tree import DecisionTreeClassifier\n",
        "dt = DecisionTreeClassifier(random_state=42)\n",
        "dt.fit(sub_input, sub_target)\n",
        "print(dt.score(sub_input, sub_target))\n",
        "print(dt.score(val_input, val_target))"
      ],
      "execution_count": 59,
      "outputs": [
        {
          "output_type": "stream",
          "text": [
            "0.9971133028626413\n",
            "0.864423076923077\n"
          ],
          "name": "stdout"
        }
      ]
    },
    {
      "cell_type": "code",
      "metadata": {
        "colab": {
          "base_uri": "https://localhost:8080/"
        },
        "id": "RcC9EooIG71d",
        "outputId": "a568cd74-ca9d-4b5d-ceef-6efe771170c3"
      },
      "source": [
        "#교차 검증 : 검증 세트를 떼어 평가하는 과정을 여러번 반복, 전체 훈련 세트를 n개(보통 5, 10)의 폴드로 나눈 후, 번갈아가면서 검증\n",
        "#그 후 각 검증의 점수를 평균을 내어 최종 검증 점수를 획득\n",
        "#폴드 : n등분 된 데이터의 집합\n",
        "#cross_validate() : 교차 검증 클래스, 기본 5-폴드 교차 검증 수행, cv 파라미터로 폴드 수를 변경 가능, 훈련 세트를 섞지 않음\n",
        "from sklearn.model_selection import cross_validate\n",
        "scores = cross_validate(dt, train_input, train_target)\n",
        "print(scores)"
      ],
      "execution_count": 60,
      "outputs": [
        {
          "output_type": "stream",
          "text": [
            "{'fit_time': array([0.0083921 , 0.00746179, 0.007622  , 0.00766611, 0.00722504]), 'score_time': array([0.00128675, 0.00072312, 0.00072837, 0.00076866, 0.00074911]), 'test_score': array([0.86923077, 0.84615385, 0.87680462, 0.84889317, 0.83541867])}\n"
          ],
          "name": "stdout"
        }
      ]
    },
    {
      "cell_type": "code",
      "metadata": {
        "colab": {
          "base_uri": "https://localhost:8080/"
        },
        "id": "zFtmJET1HYDp",
        "outputId": "1f084b48-83fa-40a6-e128-88db828423d2"
      },
      "source": [
        "#교차 검증의 최종 점수를 획득(평균점수)\n",
        "import numpy as np\n",
        "mean = np.mean(scores['test_score'])\n",
        "print(mean)"
      ],
      "execution_count": 61,
      "outputs": [
        {
          "output_type": "stream",
          "text": [
            "0.855300214703487\n"
          ],
          "name": "stdout"
        }
      ]
    },
    {
      "cell_type": "code",
      "metadata": {
        "colab": {
          "base_uri": "https://localhost:8080/"
        },
        "id": "1urblx4fH6Xo",
        "outputId": "ef3b32ad-3a67-4c28-b557-7529b3e879c5"
      },
      "source": [
        "#cross_validate()는 훈련 세트를 섞지않고 폴드를 만들기 때문에 그 전에 train_test_split()으로 섞던가 해야함\n",
        "#분할기(splitter) : 훈련 세트를 섞는 변수, 회귀 모델일 경우 KFold분할기, 분류 모델일 경우 StratifiedKFold 클래스 사용\n",
        "#StratifiedKFold 클래스 : 분류 모델에서 훈련 세트를 섞기 위한 함수\n",
        "#위의 \n",
        "from sklearn.model_selection import StratifiedKFold\n",
        "scores = cross_validate(dt, train_input, train_target, cv=StratifiedKFold())\n",
        "print(np.mean(scores['test_score']))"
      ],
      "execution_count": 62,
      "outputs": [
        {
          "output_type": "stream",
          "text": [
            "0.855300214703487\n"
          ],
          "name": "stdout"
        }
      ]
    },
    {
      "cell_type": "code",
      "metadata": {
        "colab": {
          "base_uri": "https://localhost:8080/"
        },
        "id": "H8Qn5RKHIMC9",
        "outputId": "1b66a079-fb42-45d6-d5a1-a92911e1fd92"
      },
      "source": [
        "#n_splits : 몇개의 폴드로 나눠 교차 검증을 할지 정하는 파라미터\n",
        "splitter = StratifiedKFold(n_splits=10, shuffle=True, random_state=42)\n",
        "scores = cross_validate(dt, train_input, train_target, cv=splitter)\n",
        "print(np.mean(scores['test_score']))"
      ],
      "execution_count": 63,
      "outputs": [
        {
          "output_type": "stream",
          "text": [
            "0.8574181117533719\n"
          ],
          "name": "stdout"
        }
      ]
    },
    {
      "cell_type": "code",
      "metadata": {
        "colab": {
          "base_uri": "https://localhost:8080/"
        },
        "id": "eJCGY97nKbQT",
        "outputId": "bea94049-3fdb-4de8-9800-fb79728b6491"
      },
      "source": [
        "#결정 트리의 파라미터 값을 바꿔가며 가장 좋은 모델 찾기\n",
        "#하이퍼파라미터 : 모델이 학습할 수 없는 사용자가 지정해야만 하는 파라미터\n",
        "#그리드서치(GridSearchCV) : 하이퍼파라미터 탐색과 교차 검증을 한번에 가능한 클래스, \n",
        "#  가장 좋은 검증 점수의 파라미터 조합을 구한후, 그 조합으로 모델을 최종적으로 훈련해 줌\n",
        "from sklearn.model_selection import GridSearchCV\n",
        "params = {'min_impurity_decrease':[0.0001, 0.0002, 0.0003, 0.0004, 0.0005]}\n",
        "\n",
        "#cv(폴드갯수)는 기본 5개 x 파라미터가 5개배열이기 때문에 25번의 교차 검증 실시\n",
        "#n_jobs : 병렬 실행에 사용할 CPU 코어 수 지정, -1은 모든 코어 사용\n",
        "gs = GridSearchCV(DecisionTreeClassifier(random_state=42), params, n_jobs=-1)\n",
        "gs.fit(train_input, train_target)"
      ],
      "execution_count": 64,
      "outputs": [
        {
          "output_type": "execute_result",
          "data": {
            "text/plain": [
              "GridSearchCV(cv=None, error_score=nan,\n",
              "             estimator=DecisionTreeClassifier(ccp_alpha=0.0, class_weight=None,\n",
              "                                              criterion='gini', max_depth=None,\n",
              "                                              max_features=None,\n",
              "                                              max_leaf_nodes=None,\n",
              "                                              min_impurity_decrease=0.0,\n",
              "                                              min_impurity_split=None,\n",
              "                                              min_samples_leaf=1,\n",
              "                                              min_samples_split=2,\n",
              "                                              min_weight_fraction_leaf=0.0,\n",
              "                                              presort='deprecated',\n",
              "                                              random_state=42,\n",
              "                                              splitter='best'),\n",
              "             iid='deprecated', n_jobs=-1,\n",
              "             param_grid={'min_impurity_decrease': [0.0001, 0.0002, 0.0003,\n",
              "                                                   0.0004, 0.0005]},\n",
              "             pre_dispatch='2*n_jobs', refit=True, return_train_score=False,\n",
              "             scoring=None, verbose=0)"
            ]
          },
          "metadata": {
            "tags": []
          },
          "execution_count": 64
        }
      ]
    },
    {
      "cell_type": "code",
      "metadata": {
        "colab": {
          "base_uri": "https://localhost:8080/"
        },
        "id": "cLuEO98NLGJ8",
        "outputId": "948c44dd-f46d-4f52-f4b3-644fe63c0fde"
      },
      "source": [
        "#best_estimator_ : 25개의 모델중 검증 점수가 가장 높은 모델을 저장하고 있는 속성\n",
        "dt = gs.best_estimator_\n",
        "print(dt.score(train_input, train_target))\n",
        "\n",
        "#best_params_ : 가장 높은 모델의 파라미터를 저장하고 있는 속성\n",
        "print(gs.best_params_)\n",
        "\n",
        "#cv_results_['mean_test_score'] : 교차 검증의 평균 점수를 저장하고 있는 키\n",
        "print(gs.cv_results_['mean_test_score'])\n",
        "\n",
        "#argmax() : 가장 큰 값의 인덱스를 추출\n",
        "#params 키의 해당 인덱스에 저장된 파라미터 출력(best_params_와 동일)\n",
        "best_index = np.argmax(gs.cv_results_['mean_test_score'])\n",
        "print(gs.cv_results_['params'][best_index])"
      ],
      "execution_count": 65,
      "outputs": [
        {
          "output_type": "stream",
          "text": [
            "0.9615162593804117\n",
            "{'min_impurity_decrease': 0.0001}\n",
            "[0.86819297 0.86453617 0.86492226 0.86780891 0.86761605]\n",
            "{'min_impurity_decrease': 0.0001}\n"
          ],
          "name": "stdout"
        }
      ]
    },
    {
      "cell_type": "code",
      "metadata": {
        "colab": {
          "base_uri": "https://localhost:8080/"
        },
        "id": "kHQCDG21N6de",
        "outputId": "63df5b5a-9cf7-44ec-c502-39617fab0e61"
      },
      "source": [
        "#9 * 15 * 10 * 5폴드 = 6750모델 생성\n",
        "params = {'min_impurity_decrease':np.arange(0.0001, 0.001, 0.0001),\n",
        "          'max_depth':range(5, 20, 1),\n",
        "          'min_samples_split':range(2, 100, 10)\n",
        "          }\n",
        "gs = GridSearchCV(DecisionTreeClassifier(random_state=42), params, n_jobs=-1)\n",
        "gs.fit(train_input, train_target)\n",
        "\n",
        "#최상의 매개변수 조합 확인\n",
        "print(gs.best_params_)"
      ],
      "execution_count": 66,
      "outputs": [
        {
          "output_type": "stream",
          "text": [
            "{'max_depth': 14, 'min_impurity_decrease': 0.0004, 'min_samples_split': 12}\n"
          ],
          "name": "stdout"
        }
      ]
    },
    {
      "cell_type": "code",
      "metadata": {
        "colab": {
          "base_uri": "https://localhost:8080/"
        },
        "id": "sBAYro9hO9fM",
        "outputId": "270ed916-3af6-41fc-d937-39ccba6ccf18"
      },
      "source": [
        "#최상의 교차 검증 점수 확인\n",
        "print(np.max(gs.cv_results_['mean_test_score']))"
      ],
      "execution_count": 67,
      "outputs": [
        {
          "output_type": "stream",
          "text": [
            "0.8683865773302731\n"
          ],
          "name": "stdout"
        }
      ]
    },
    {
      "cell_type": "code",
      "metadata": {
        "colab": {
          "base_uri": "https://localhost:8080/"
        },
        "id": "0BfKRaBOPYJp",
        "outputId": "5958688d-d88a-43eb-d7ed-60c813ac916d"
      },
      "source": [
        "#랜덤 서치 : 매개변수의 값의 리스트를 전달하는 것이 아닌, 매개변수를 샘플링 가능한 확률 분포 객체 전달\n",
        "#확률 분포 : uniform이나 randint등 균등 분포에서 샘플링(주어진 범위에서 고르게 값을 취득)\n",
        "#randint : 정수값, uniform : 실수값\n",
        "from scipy.stats import uniform, randint\n",
        "\n",
        "rgen = randint(0, 10)\n",
        "rgen.rvs(10)\n",
        "\n",
        "#1000번 샘플링에서 각 숫자의 개수 확인\n",
        "np.unique(rgen.rvs(1000), return_counts=True)"
      ],
      "execution_count": 68,
      "outputs": [
        {
          "output_type": "execute_result",
          "data": {
            "text/plain": [
              "(array([0, 1, 2, 3, 4, 5, 6, 7, 8, 9]),\n",
              " array([ 87,  85, 100, 122, 114,  96,  97, 108,  94,  97]))"
            ]
          },
          "metadata": {
            "tags": []
          },
          "execution_count": 68
        }
      ]
    },
    {
      "cell_type": "code",
      "metadata": {
        "colab": {
          "base_uri": "https://localhost:8080/"
        },
        "id": "8-dIcYUPQ0rb",
        "outputId": "087a4b16-8dd6-43a5-ad4b-cdc69ffaeb0b"
      },
      "source": [
        "ugen = uniform(0, 1)\n",
        "ugen.rvs(10)"
      ],
      "execution_count": 69,
      "outputs": [
        {
          "output_type": "execute_result",
          "data": {
            "text/plain": [
              "array([0.51812179, 0.73836321, 0.85303283, 0.79340439, 0.83512772,\n",
              "       0.66551159, 0.27130831, 0.90618269, 0.48549426, 0.02389726])"
            ]
          },
          "metadata": {
            "tags": []
          },
          "execution_count": 69
        }
      ]
    },
    {
      "cell_type": "code",
      "metadata": {
        "id": "kmdM96OcQ56C"
      },
      "source": [
        "#확률 분포 객체로 탐색할 파라미터 생성\n",
        "params = {'min_impurity_decrease': uniform(0.0001, 0.001),\n",
        "          'max_depth': randint(20, 50),\n",
        "          'min_samples_split': randint(2, 25),\n",
        "          'min_samples_leaf': randint(1, 25)\n",
        "          }"
      ],
      "execution_count": 70,
      "outputs": []
    },
    {
      "cell_type": "code",
      "metadata": {
        "colab": {
          "base_uri": "https://localhost:8080/"
        },
        "id": "GVZd2q-QRViP",
        "outputId": "e91e5346-cddd-4997-f1ad-7672a51fe109"
      },
      "source": [
        "#RandomizedSearchCV : sklearn의 랜덤 서치 클래스\n",
        "#n_iter : 샘플링 횟수\n",
        "from sklearn.model_selection import RandomizedSearchCV\n",
        "gs = RandomizedSearchCV(DecisionTreeClassifier(random_state=42), params, n_iter=100, n_jobs=-1, random_state=42)\n",
        "gs.fit(train_input, train_target)"
      ],
      "execution_count": 71,
      "outputs": [
        {
          "output_type": "execute_result",
          "data": {
            "text/plain": [
              "RandomizedSearchCV(cv=None, error_score=nan,\n",
              "                   estimator=DecisionTreeClassifier(ccp_alpha=0.0,\n",
              "                                                    class_weight=None,\n",
              "                                                    criterion='gini',\n",
              "                                                    max_depth=None,\n",
              "                                                    max_features=None,\n",
              "                                                    max_leaf_nodes=None,\n",
              "                                                    min_impurity_decrease=0.0,\n",
              "                                                    min_impurity_split=None,\n",
              "                                                    min_samples_leaf=1,\n",
              "                                                    min_samples_split=2,\n",
              "                                                    min_weight_fraction_leaf=0.0,\n",
              "                                                    presort='deprecated',\n",
              "                                                    random_state=42,\n",
              "                                                    splitter='best'),...\n",
              "                                        'min_impurity_decrease': <scipy.stats._distn_infrastructure.rv_frozen object at 0x7f7b34f43110>,\n",
              "                                        'min_samples_leaf': <scipy.stats._distn_infrastructure.rv_frozen object at 0x7f7b350bfbd0>,\n",
              "                                        'min_samples_split': <scipy.stats._distn_infrastructure.rv_frozen object at 0x7f7b350bf7d0>},\n",
              "                   pre_dispatch='2*n_jobs', random_state=42, refit=True,\n",
              "                   return_train_score=False, scoring=None, verbose=0)"
            ]
          },
          "metadata": {
            "tags": []
          },
          "execution_count": 71
        }
      ]
    },
    {
      "cell_type": "code",
      "metadata": {
        "colab": {
          "base_uri": "https://localhost:8080/"
        },
        "id": "e3ZBUlUPS2QW",
        "outputId": "27221edb-7662-4ba9-99bf-1602873b202d"
      },
      "source": [
        "#최적의 파라미터 조합 확인\n",
        "print(gs.best_params_)\n",
        "\n",
        "#최고의 교차 검증 점수 확인\n",
        "print(np.max(gs.cv_results_['mean_test_score']))"
      ],
      "execution_count": 72,
      "outputs": [
        {
          "output_type": "stream",
          "text": [
            "{'max_depth': 39, 'min_impurity_decrease': 0.00034102546602601173, 'min_samples_leaf': 7, 'min_samples_split': 13}\n",
            "0.8695428296438884\n"
          ],
          "name": "stdout"
        }
      ]
    },
    {
      "cell_type": "code",
      "metadata": {
        "colab": {
          "base_uri": "https://localhost:8080/"
        },
        "id": "_20YPZR4TC_e",
        "outputId": "0d3be6e7-b5c9-498a-be16-2389b375243f"
      },
      "source": [
        "#최적의 파라미터를 적용한 최적 모델로 결정 트리 모델 생성\n",
        "#여기서 처음으로 테스트 세트 사용해서 평가\n",
        "dt = gs.best_estimator_\n",
        "print(dt.score(test_input, test_target))"
      ],
      "execution_count": 73,
      "outputs": [
        {
          "output_type": "stream",
          "text": [
            "0.86\n"
          ],
          "name": "stdout"
        }
      ]
    }
  ]
}